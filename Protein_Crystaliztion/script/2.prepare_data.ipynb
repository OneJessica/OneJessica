{
 "cells": [
  {
   "cell_type": "code",
   "execution_count": null,
   "id": "21eb115e-c0da-48e1-8a98-fa55a56d616b",
   "metadata": {},
   "outputs": [],
   "source": [
    "data = pd.read_csv('./full_results_for_crystalization.csv',index_col = 0)\n",
    "data.head(30)"
   ]
  },
  {
   "cell_type": "code",
   "execution_count": null,
   "id": "78e5fa54-1462-40e2-adc6-7d9ff6c889fc",
   "metadata": {},
   "outputs": [],
   "source": [
    "uniq_entity_data = data[['pdb_id',\n",
    " 'entity_id',\n",
    " 'seq',\n",
    " 'method',\n",
    " 'details',\n",
    " 'details_results',\n",
    " 'method_results',\n",
    " 'full_results']].drop_duplicates(subset='pdb_id', keep=False, inplace=False)"
   ]
  },
  {
   "cell_type": "code",
   "execution_count": null,
   "id": "ce7f1d02-fc86-4d9e-9219-4a84420d1260",
   "metadata": {},
   "outputs": [],
   "source": [
    "test_id = set( pd.Series(uniq_entity_data.index).sample(20000) )\n",
    "\n",
    "data.loc[test_id].to_csv('data/test.csv')"
   ]
  },
  {
   "cell_type": "code",
   "execution_count": null,
   "id": "0ef54aeb-7592-4ab8-a390-a2e2eedb8da7",
   "metadata": {},
   "outputs": [],
   "source": [
    "uniq_id = set(uniq_entity_data.index) - test_id\n",
    "\n",
    "data.loc[uniq_id].to_csv('data/uniq.csv')"
   ]
  },
  {
   "cell_type": "code",
   "execution_count": null,
   "id": "619e736e-a5ca-4121-8040-6b5b2c0fdbc2",
   "metadata": {},
   "outputs": [],
   "source": [
    "train_id = set(data.index) - test_id\n",
    "data.loc[train_id].to_csv('data/train.csv')"
   ]
  },
  {
   "cell_type": "code",
   "execution_count": null,
   "id": "91c31e7b-032f-493d-9108-18a937f4de3c",
   "metadata": {},
   "outputs": [],
   "source": [
    "data_200k = data.loc[uniq_id]\n",
    "\n",
    "data_200k['ag_index'] = data_200k.seq.map(lambda x: [pos for pos, char in enumerate(x) if char.lower() in 'aAgG'])"
   ]
  },
  {
   "cell_type": "code",
   "execution_count": null,
   "id": "a3eb1e7d-d57f-4abd-b1ba-dce79c56783a",
   "metadata": {},
   "outputs": [],
   "source": [
    "translate = {'a':'g','g':'a','A':'G','G':'A'}\n",
    "\n",
    "list_mutation_df = [data_200k] * 4"
   ]
  },
  {
   "cell_type": "code",
   "execution_count": null,
   "id": "f605e537-5920-4d2a-b917-04c738d63dd0",
   "metadata": {},
   "outputs": [],
   "source": [
    "def mutation(row,i):\n",
    "    if len(row['ag_index']) <= i:\n",
    "        return\n",
    "    index = row['ag_index'][i]\n",
    "    chars = list(row['seq'])\n",
    "    chars[index] = translate[row['seq'][index]]\n",
    "    row['seq'] = ''.join(chars)"
   ]
  },
  {
   "cell_type": "code",
   "execution_count": null,
   "id": "f94cd8a1-134a-48ca-b5ea-f06e20538afd",
   "metadata": {},
   "outputs": [],
   "source": [
    "for i in tqdm(range(4)):\n",
    "    list_mutation_df[i].apply( lambda x: mutation(x,i),axis = 1)"
   ]
  },
  {
   "cell_type": "code",
   "execution_count": null,
   "id": "48b54a3a-7907-414b-a575-8f201ef8abdd",
   "metadata": {},
   "outputs": [],
   "source": [
    "data_1000k = pd.concat([data_200k] + list_mutation_df)\n",
    "data_1000k = data_1000k.drop_duplicates(subset = ['pdb_id','entity_id','seq'])\n",
    "data_1000k.to_csv('data/1000k.csv')"
   ]
  },
  {
   "cell_type": "code",
   "execution_count": null,
   "id": "fe86213c-87de-4927-aa9c-ea829bbd7480",
   "metadata": {},
   "outputs": [],
   "source": [
    "data_200k = data.iloc[list_raw]"
   ]
  }
 ],
 "metadata": {
  "kernelspec": {
   "display_name": "Python 3 (ipykernel)",
   "language": "python",
   "name": "python3"
  },
  "language_info": {
   "codemirror_mode": {
    "name": "ipython",
    "version": 3
   },
   "file_extension": ".py",
   "mimetype": "text/x-python",
   "name": "python",
   "nbconvert_exporter": "python",
   "pygments_lexer": "ipython3",
   "version": "3.9.6"
  }
 },
 "nbformat": 4,
 "nbformat_minor": 5
}
